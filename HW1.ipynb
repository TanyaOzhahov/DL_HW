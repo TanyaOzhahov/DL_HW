{
  "nbformat": 4,
  "nbformat_minor": 0,
  "metadata": {
    "colab": {
      "provenance": []
    },
    "kernelspec": {
      "name": "python3",
      "display_name": "Python 3"
    },
    "language_info": {
      "name": "python"
    }
  },
  "cells": [
    {
      "cell_type": "code",
      "execution_count": 1,
      "metadata": {
        "id": "epnrvF93OSod"
      },
      "outputs": [],
      "source": [
        "import os\n",
        "import random\n",
        "import numpy as np\n",
        "import pandas as pd\n",
        "\n",
        "import torch\n",
        "import torch.nn as nn\n",
        "import torch.nn.functional as F\n",
        "import torch.optim as optim\n",
        "from torch.utils.data import DataLoader, Dataset\n",
        "\n",
        "from tqdm.notebook import tqdm\n",
        "\n",
        "from sklearn.metrics import classification_report, f1_score\n",
        "from sklearn.model_selection import train_test_split\n",
        "\n",
        "from IPython.display import clear_output\n",
        "import matplotlib.pyplot as plt\n",
        "import seaborn as sns\n",
        "\n",
        "sns.set_theme()"
      ]
    },
    {
      "cell_type": "code",
      "source": [
        "df = pd.read_csv('/content/cybersequrity.csv')\n",
        "df"
      ],
      "metadata": {
        "colab": {
          "base_uri": "https://localhost:8080/",
          "height": 444
        },
        "id": "52Oh68eZOUR3",
        "outputId": "89929b4c-6638-4c4c-ad54-0ed491efacc6"
      },
      "execution_count": 2,
      "outputs": [
        {
          "output_type": "execute_result",
          "data": {
            "text/plain": [
              "      svcscan.fs_drivers  callbacks.ngeneric  \\\n",
              "0                     26                   8   \n",
              "1                     26                   8   \n",
              "2                     26                   8   \n",
              "3                     26                   8   \n",
              "4                     26                   8   \n",
              "...                  ...                 ...   \n",
              "9995                  26                   8   \n",
              "9996                  26                   8   \n",
              "9997                  26                   8   \n",
              "9998                  26                   8   \n",
              "9999                  26                   8   \n",
              "\n",
              "      psxview.not_in_eprocess_pool_false_avg  psxview.not_in_eprocess_pool  \\\n",
              "0                                        0.0                             0   \n",
              "1                                        0.0                             0   \n",
              "2                                        0.0                             0   \n",
              "3                                        0.0                             0   \n",
              "4                                        0.0                             0   \n",
              "...                                      ...                           ...   \n",
              "9995                                     0.0                             0   \n",
              "9996                                     0.0                             0   \n",
              "9997                                     0.0                             0   \n",
              "9998                                     0.0                             0   \n",
              "9999                                     0.0                             0   \n",
              "\n",
              "      callbacks.nanonymous  psxview.not_in_session  psxview.not_in_pslist  \\\n",
              "0                        0                       2                      0   \n",
              "1                        0                       5                      3   \n",
              "2                        0                       9                      7   \n",
              "3                        0                       3                      1   \n",
              "4                        0                       2                      0   \n",
              "...                    ...                     ...                    ...   \n",
              "9995                     0                       4                      2   \n",
              "9996                     0                       2                      0   \n",
              "9997                     1                       2                      0   \n",
              "9998                     0                       8                      6   \n",
              "9999                     0                       2                      0   \n",
              "\n",
              "      psxview.not_in_pspcid_list  psxview.not_in_ethread_pool  \\\n",
              "0                              0                            0   \n",
              "1                              3                            3   \n",
              "2                              7                            7   \n",
              "3                              1                            2   \n",
              "4                              0                            0   \n",
              "...                          ...                          ...   \n",
              "9995                           2                            2   \n",
              "9996                           0                            0   \n",
              "9997                           0                            0   \n",
              "9998                           6                            7   \n",
              "9999                           0                            0   \n",
              "\n",
              "      psxview.not_in_csrss_handles  psxview.not_in_pslist_false_avg  \\\n",
              "0                                4                         0.000000   \n",
              "1                                7                         0.073171   \n",
              "2                               11                         0.152174   \n",
              "3                                6                         0.022222   \n",
              "4                                4                         0.000000   \n",
              "...                            ...                              ...   \n",
              "9995                             6                         0.048780   \n",
              "9996                             4                         0.000000   \n",
              "9997                             4                         0.000000   \n",
              "9998                            11                         0.127629   \n",
              "9999                             4                         0.000000   \n",
              "\n",
              "      psxview.not_in_pspcid_list_false_avg  psxview.not_in_deskthrd  \\\n",
              "0                                 0.000000                        6   \n",
              "1                                 0.073171                        9   \n",
              "2                                 0.152174                       13   \n",
              "3                                 0.022222                        9   \n",
              "4                                 0.000000                        6   \n",
              "...                                    ...                      ...   \n",
              "9995                              0.048780                        8   \n",
              "9996                              0.000000                        5   \n",
              "9997                              0.000000                        5   \n",
              "9998                              0.127629                       13   \n",
              "9999                              0.000000                        6   \n",
              "\n",
              "      psxview.not_in_ethread_pool_false_avg  psxview.not_in_session_false_avg  \\\n",
              "0                                  0.000000                          0.044444   \n",
              "1                                  0.073171                          0.121951   \n",
              "2                                  0.152174                          0.195652   \n",
              "3                                  0.044444                          0.066667   \n",
              "4                                  0.000000                          0.048780   \n",
              "...                                     ...                               ...   \n",
              "9995                               0.048780                          0.097561   \n",
              "9996                               0.000000                          0.062500   \n",
              "9997                               0.000000                          0.062500   \n",
              "9998                               0.148511                          0.169392   \n",
              "9999                               0.000000                          0.048780   \n",
              "\n",
              "      Class  \n",
              "0         1  \n",
              "1         1  \n",
              "2         1  \n",
              "3         1  \n",
              "4         0  \n",
              "...     ...  \n",
              "9995      1  \n",
              "9996      1  \n",
              "9997      1  \n",
              "9998      0  \n",
              "9999      1  \n",
              "\n",
              "[10000 rows x 16 columns]"
            ],
            "text/html": [
              "\n",
              "  <div id=\"df-3b7a2fa4-f991-4286-a2db-425a9bae440e\" class=\"colab-df-container\">\n",
              "    <div>\n",
              "<style scoped>\n",
              "    .dataframe tbody tr th:only-of-type {\n",
              "        vertical-align: middle;\n",
              "    }\n",
              "\n",
              "    .dataframe tbody tr th {\n",
              "        vertical-align: top;\n",
              "    }\n",
              "\n",
              "    .dataframe thead th {\n",
              "        text-align: right;\n",
              "    }\n",
              "</style>\n",
              "<table border=\"1\" class=\"dataframe\">\n",
              "  <thead>\n",
              "    <tr style=\"text-align: right;\">\n",
              "      <th></th>\n",
              "      <th>svcscan.fs_drivers</th>\n",
              "      <th>callbacks.ngeneric</th>\n",
              "      <th>psxview.not_in_eprocess_pool_false_avg</th>\n",
              "      <th>psxview.not_in_eprocess_pool</th>\n",
              "      <th>callbacks.nanonymous</th>\n",
              "      <th>psxview.not_in_session</th>\n",
              "      <th>psxview.not_in_pslist</th>\n",
              "      <th>psxview.not_in_pspcid_list</th>\n",
              "      <th>psxview.not_in_ethread_pool</th>\n",
              "      <th>psxview.not_in_csrss_handles</th>\n",
              "      <th>psxview.not_in_pslist_false_avg</th>\n",
              "      <th>psxview.not_in_pspcid_list_false_avg</th>\n",
              "      <th>psxview.not_in_deskthrd</th>\n",
              "      <th>psxview.not_in_ethread_pool_false_avg</th>\n",
              "      <th>psxview.not_in_session_false_avg</th>\n",
              "      <th>Class</th>\n",
              "    </tr>\n",
              "  </thead>\n",
              "  <tbody>\n",
              "    <tr>\n",
              "      <th>0</th>\n",
              "      <td>26</td>\n",
              "      <td>8</td>\n",
              "      <td>0.0</td>\n",
              "      <td>0</td>\n",
              "      <td>0</td>\n",
              "      <td>2</td>\n",
              "      <td>0</td>\n",
              "      <td>0</td>\n",
              "      <td>0</td>\n",
              "      <td>4</td>\n",
              "      <td>0.000000</td>\n",
              "      <td>0.000000</td>\n",
              "      <td>6</td>\n",
              "      <td>0.000000</td>\n",
              "      <td>0.044444</td>\n",
              "      <td>1</td>\n",
              "    </tr>\n",
              "    <tr>\n",
              "      <th>1</th>\n",
              "      <td>26</td>\n",
              "      <td>8</td>\n",
              "      <td>0.0</td>\n",
              "      <td>0</td>\n",
              "      <td>0</td>\n",
              "      <td>5</td>\n",
              "      <td>3</td>\n",
              "      <td>3</td>\n",
              "      <td>3</td>\n",
              "      <td>7</td>\n",
              "      <td>0.073171</td>\n",
              "      <td>0.073171</td>\n",
              "      <td>9</td>\n",
              "      <td>0.073171</td>\n",
              "      <td>0.121951</td>\n",
              "      <td>1</td>\n",
              "    </tr>\n",
              "    <tr>\n",
              "      <th>2</th>\n",
              "      <td>26</td>\n",
              "      <td>8</td>\n",
              "      <td>0.0</td>\n",
              "      <td>0</td>\n",
              "      <td>0</td>\n",
              "      <td>9</td>\n",
              "      <td>7</td>\n",
              "      <td>7</td>\n",
              "      <td>7</td>\n",
              "      <td>11</td>\n",
              "      <td>0.152174</td>\n",
              "      <td>0.152174</td>\n",
              "      <td>13</td>\n",
              "      <td>0.152174</td>\n",
              "      <td>0.195652</td>\n",
              "      <td>1</td>\n",
              "    </tr>\n",
              "    <tr>\n",
              "      <th>3</th>\n",
              "      <td>26</td>\n",
              "      <td>8</td>\n",
              "      <td>0.0</td>\n",
              "      <td>0</td>\n",
              "      <td>0</td>\n",
              "      <td>3</td>\n",
              "      <td>1</td>\n",
              "      <td>1</td>\n",
              "      <td>2</td>\n",
              "      <td>6</td>\n",
              "      <td>0.022222</td>\n",
              "      <td>0.022222</td>\n",
              "      <td>9</td>\n",
              "      <td>0.044444</td>\n",
              "      <td>0.066667</td>\n",
              "      <td>1</td>\n",
              "    </tr>\n",
              "    <tr>\n",
              "      <th>4</th>\n",
              "      <td>26</td>\n",
              "      <td>8</td>\n",
              "      <td>0.0</td>\n",
              "      <td>0</td>\n",
              "      <td>0</td>\n",
              "      <td>2</td>\n",
              "      <td>0</td>\n",
              "      <td>0</td>\n",
              "      <td>0</td>\n",
              "      <td>4</td>\n",
              "      <td>0.000000</td>\n",
              "      <td>0.000000</td>\n",
              "      <td>6</td>\n",
              "      <td>0.000000</td>\n",
              "      <td>0.048780</td>\n",
              "      <td>0</td>\n",
              "    </tr>\n",
              "    <tr>\n",
              "      <th>...</th>\n",
              "      <td>...</td>\n",
              "      <td>...</td>\n",
              "      <td>...</td>\n",
              "      <td>...</td>\n",
              "      <td>...</td>\n",
              "      <td>...</td>\n",
              "      <td>...</td>\n",
              "      <td>...</td>\n",
              "      <td>...</td>\n",
              "      <td>...</td>\n",
              "      <td>...</td>\n",
              "      <td>...</td>\n",
              "      <td>...</td>\n",
              "      <td>...</td>\n",
              "      <td>...</td>\n",
              "      <td>...</td>\n",
              "    </tr>\n",
              "    <tr>\n",
              "      <th>9995</th>\n",
              "      <td>26</td>\n",
              "      <td>8</td>\n",
              "      <td>0.0</td>\n",
              "      <td>0</td>\n",
              "      <td>0</td>\n",
              "      <td>4</td>\n",
              "      <td>2</td>\n",
              "      <td>2</td>\n",
              "      <td>2</td>\n",
              "      <td>6</td>\n",
              "      <td>0.048780</td>\n",
              "      <td>0.048780</td>\n",
              "      <td>8</td>\n",
              "      <td>0.048780</td>\n",
              "      <td>0.097561</td>\n",
              "      <td>1</td>\n",
              "    </tr>\n",
              "    <tr>\n",
              "      <th>9996</th>\n",
              "      <td>26</td>\n",
              "      <td>8</td>\n",
              "      <td>0.0</td>\n",
              "      <td>0</td>\n",
              "      <td>0</td>\n",
              "      <td>2</td>\n",
              "      <td>0</td>\n",
              "      <td>0</td>\n",
              "      <td>0</td>\n",
              "      <td>4</td>\n",
              "      <td>0.000000</td>\n",
              "      <td>0.000000</td>\n",
              "      <td>5</td>\n",
              "      <td>0.000000</td>\n",
              "      <td>0.062500</td>\n",
              "      <td>1</td>\n",
              "    </tr>\n",
              "    <tr>\n",
              "      <th>9997</th>\n",
              "      <td>26</td>\n",
              "      <td>8</td>\n",
              "      <td>0.0</td>\n",
              "      <td>0</td>\n",
              "      <td>1</td>\n",
              "      <td>2</td>\n",
              "      <td>0</td>\n",
              "      <td>0</td>\n",
              "      <td>0</td>\n",
              "      <td>4</td>\n",
              "      <td>0.000000</td>\n",
              "      <td>0.000000</td>\n",
              "      <td>5</td>\n",
              "      <td>0.000000</td>\n",
              "      <td>0.062500</td>\n",
              "      <td>1</td>\n",
              "    </tr>\n",
              "    <tr>\n",
              "      <th>9998</th>\n",
              "      <td>26</td>\n",
              "      <td>8</td>\n",
              "      <td>0.0</td>\n",
              "      <td>0</td>\n",
              "      <td>0</td>\n",
              "      <td>8</td>\n",
              "      <td>6</td>\n",
              "      <td>6</td>\n",
              "      <td>7</td>\n",
              "      <td>11</td>\n",
              "      <td>0.127629</td>\n",
              "      <td>0.127629</td>\n",
              "      <td>13</td>\n",
              "      <td>0.148511</td>\n",
              "      <td>0.169392</td>\n",
              "      <td>0</td>\n",
              "    </tr>\n",
              "    <tr>\n",
              "      <th>9999</th>\n",
              "      <td>26</td>\n",
              "      <td>8</td>\n",
              "      <td>0.0</td>\n",
              "      <td>0</td>\n",
              "      <td>0</td>\n",
              "      <td>2</td>\n",
              "      <td>0</td>\n",
              "      <td>0</td>\n",
              "      <td>0</td>\n",
              "      <td>4</td>\n",
              "      <td>0.000000</td>\n",
              "      <td>0.000000</td>\n",
              "      <td>6</td>\n",
              "      <td>0.000000</td>\n",
              "      <td>0.048780</td>\n",
              "      <td>1</td>\n",
              "    </tr>\n",
              "  </tbody>\n",
              "</table>\n",
              "<p>10000 rows × 16 columns</p>\n",
              "</div>\n",
              "    <div class=\"colab-df-buttons\">\n",
              "\n",
              "  <div class=\"colab-df-container\">\n",
              "    <button class=\"colab-df-convert\" onclick=\"convertToInteractive('df-3b7a2fa4-f991-4286-a2db-425a9bae440e')\"\n",
              "            title=\"Convert this dataframe to an interactive table.\"\n",
              "            style=\"display:none;\">\n",
              "\n",
              "  <svg xmlns=\"http://www.w3.org/2000/svg\" height=\"24px\" viewBox=\"0 -960 960 960\">\n",
              "    <path d=\"M120-120v-720h720v720H120Zm60-500h600v-160H180v160Zm220 220h160v-160H400v160Zm0 220h160v-160H400v160ZM180-400h160v-160H180v160Zm440 0h160v-160H620v160ZM180-180h160v-160H180v160Zm440 0h160v-160H620v160Z\"/>\n",
              "  </svg>\n",
              "    </button>\n",
              "\n",
              "  <style>\n",
              "    .colab-df-container {\n",
              "      display:flex;\n",
              "      gap: 12px;\n",
              "    }\n",
              "\n",
              "    .colab-df-convert {\n",
              "      background-color: #E8F0FE;\n",
              "      border: none;\n",
              "      border-radius: 50%;\n",
              "      cursor: pointer;\n",
              "      display: none;\n",
              "      fill: #1967D2;\n",
              "      height: 32px;\n",
              "      padding: 0 0 0 0;\n",
              "      width: 32px;\n",
              "    }\n",
              "\n",
              "    .colab-df-convert:hover {\n",
              "      background-color: #E2EBFA;\n",
              "      box-shadow: 0px 1px 2px rgba(60, 64, 67, 0.3), 0px 1px 3px 1px rgba(60, 64, 67, 0.15);\n",
              "      fill: #174EA6;\n",
              "    }\n",
              "\n",
              "    .colab-df-buttons div {\n",
              "      margin-bottom: 4px;\n",
              "    }\n",
              "\n",
              "    [theme=dark] .colab-df-convert {\n",
              "      background-color: #3B4455;\n",
              "      fill: #D2E3FC;\n",
              "    }\n",
              "\n",
              "    [theme=dark] .colab-df-convert:hover {\n",
              "      background-color: #434B5C;\n",
              "      box-shadow: 0px 1px 3px 1px rgba(0, 0, 0, 0.15);\n",
              "      filter: drop-shadow(0px 1px 2px rgba(0, 0, 0, 0.3));\n",
              "      fill: #FFFFFF;\n",
              "    }\n",
              "  </style>\n",
              "\n",
              "    <script>\n",
              "      const buttonEl =\n",
              "        document.querySelector('#df-3b7a2fa4-f991-4286-a2db-425a9bae440e button.colab-df-convert');\n",
              "      buttonEl.style.display =\n",
              "        google.colab.kernel.accessAllowed ? 'block' : 'none';\n",
              "\n",
              "      async function convertToInteractive(key) {\n",
              "        const element = document.querySelector('#df-3b7a2fa4-f991-4286-a2db-425a9bae440e');\n",
              "        const dataTable =\n",
              "          await google.colab.kernel.invokeFunction('convertToInteractive',\n",
              "                                                    [key], {});\n",
              "        if (!dataTable) return;\n",
              "\n",
              "        const docLinkHtml = 'Like what you see? Visit the ' +\n",
              "          '<a target=\"_blank\" href=https://colab.research.google.com/notebooks/data_table.ipynb>data table notebook</a>'\n",
              "          + ' to learn more about interactive tables.';\n",
              "        element.innerHTML = '';\n",
              "        dataTable['output_type'] = 'display_data';\n",
              "        await google.colab.output.renderOutput(dataTable, element);\n",
              "        const docLink = document.createElement('div');\n",
              "        docLink.innerHTML = docLinkHtml;\n",
              "        element.appendChild(docLink);\n",
              "      }\n",
              "    </script>\n",
              "  </div>\n",
              "\n",
              "\n",
              "<div id=\"df-9b605002-6426-41a4-9958-d385033ae32a\">\n",
              "  <button class=\"colab-df-quickchart\" onclick=\"quickchart('df-9b605002-6426-41a4-9958-d385033ae32a')\"\n",
              "            title=\"Suggest charts\"\n",
              "            style=\"display:none;\">\n",
              "\n",
              "<svg xmlns=\"http://www.w3.org/2000/svg\" height=\"24px\"viewBox=\"0 0 24 24\"\n",
              "     width=\"24px\">\n",
              "    <g>\n",
              "        <path d=\"M19 3H5c-1.1 0-2 .9-2 2v14c0 1.1.9 2 2 2h14c1.1 0 2-.9 2-2V5c0-1.1-.9-2-2-2zM9 17H7v-7h2v7zm4 0h-2V7h2v10zm4 0h-2v-4h2v4z\"/>\n",
              "    </g>\n",
              "</svg>\n",
              "  </button>\n",
              "\n",
              "<style>\n",
              "  .colab-df-quickchart {\n",
              "      --bg-color: #E8F0FE;\n",
              "      --fill-color: #1967D2;\n",
              "      --hover-bg-color: #E2EBFA;\n",
              "      --hover-fill-color: #174EA6;\n",
              "      --disabled-fill-color: #AAA;\n",
              "      --disabled-bg-color: #DDD;\n",
              "  }\n",
              "\n",
              "  [theme=dark] .colab-df-quickchart {\n",
              "      --bg-color: #3B4455;\n",
              "      --fill-color: #D2E3FC;\n",
              "      --hover-bg-color: #434B5C;\n",
              "      --hover-fill-color: #FFFFFF;\n",
              "      --disabled-bg-color: #3B4455;\n",
              "      --disabled-fill-color: #666;\n",
              "  }\n",
              "\n",
              "  .colab-df-quickchart {\n",
              "    background-color: var(--bg-color);\n",
              "    border: none;\n",
              "    border-radius: 50%;\n",
              "    cursor: pointer;\n",
              "    display: none;\n",
              "    fill: var(--fill-color);\n",
              "    height: 32px;\n",
              "    padding: 0;\n",
              "    width: 32px;\n",
              "  }\n",
              "\n",
              "  .colab-df-quickchart:hover {\n",
              "    background-color: var(--hover-bg-color);\n",
              "    box-shadow: 0 1px 2px rgba(60, 64, 67, 0.3), 0 1px 3px 1px rgba(60, 64, 67, 0.15);\n",
              "    fill: var(--button-hover-fill-color);\n",
              "  }\n",
              "\n",
              "  .colab-df-quickchart-complete:disabled,\n",
              "  .colab-df-quickchart-complete:disabled:hover {\n",
              "    background-color: var(--disabled-bg-color);\n",
              "    fill: var(--disabled-fill-color);\n",
              "    box-shadow: none;\n",
              "  }\n",
              "\n",
              "  .colab-df-spinner {\n",
              "    border: 2px solid var(--fill-color);\n",
              "    border-color: transparent;\n",
              "    border-bottom-color: var(--fill-color);\n",
              "    animation:\n",
              "      spin 1s steps(1) infinite;\n",
              "  }\n",
              "\n",
              "  @keyframes spin {\n",
              "    0% {\n",
              "      border-color: transparent;\n",
              "      border-bottom-color: var(--fill-color);\n",
              "      border-left-color: var(--fill-color);\n",
              "    }\n",
              "    20% {\n",
              "      border-color: transparent;\n",
              "      border-left-color: var(--fill-color);\n",
              "      border-top-color: var(--fill-color);\n",
              "    }\n",
              "    30% {\n",
              "      border-color: transparent;\n",
              "      border-left-color: var(--fill-color);\n",
              "      border-top-color: var(--fill-color);\n",
              "      border-right-color: var(--fill-color);\n",
              "    }\n",
              "    40% {\n",
              "      border-color: transparent;\n",
              "      border-right-color: var(--fill-color);\n",
              "      border-top-color: var(--fill-color);\n",
              "    }\n",
              "    60% {\n",
              "      border-color: transparent;\n",
              "      border-right-color: var(--fill-color);\n",
              "    }\n",
              "    80% {\n",
              "      border-color: transparent;\n",
              "      border-right-color: var(--fill-color);\n",
              "      border-bottom-color: var(--fill-color);\n",
              "    }\n",
              "    90% {\n",
              "      border-color: transparent;\n",
              "      border-bottom-color: var(--fill-color);\n",
              "    }\n",
              "  }\n",
              "</style>\n",
              "\n",
              "  <script>\n",
              "    async function quickchart(key) {\n",
              "      const quickchartButtonEl =\n",
              "        document.querySelector('#' + key + ' button');\n",
              "      quickchartButtonEl.disabled = true;  // To prevent multiple clicks.\n",
              "      quickchartButtonEl.classList.add('colab-df-spinner');\n",
              "      try {\n",
              "        const charts = await google.colab.kernel.invokeFunction(\n",
              "            'suggestCharts', [key], {});\n",
              "      } catch (error) {\n",
              "        console.error('Error during call to suggestCharts:', error);\n",
              "      }\n",
              "      quickchartButtonEl.classList.remove('colab-df-spinner');\n",
              "      quickchartButtonEl.classList.add('colab-df-quickchart-complete');\n",
              "    }\n",
              "    (() => {\n",
              "      let quickchartButtonEl =\n",
              "        document.querySelector('#df-9b605002-6426-41a4-9958-d385033ae32a button');\n",
              "      quickchartButtonEl.style.display =\n",
              "        google.colab.kernel.accessAllowed ? 'block' : 'none';\n",
              "    })();\n",
              "  </script>\n",
              "</div>\n",
              "    </div>\n",
              "  </div>\n"
            ],
            "application/vnd.google.colaboratory.intrinsic+json": {
              "type": "dataframe",
              "variable_name": "df",
              "summary": "{\n  \"name\": \"df\",\n  \"rows\": 10000,\n  \"fields\": [\n    {\n      \"column\": \"svcscan.fs_drivers\",\n      \"properties\": {\n        \"dtype\": \"number\",\n        \"std\": 0,\n        \"min\": 11,\n        \"max\": 26,\n        \"num_unique_values\": 5,\n        \"samples\": [\n          24,\n          13,\n          23\n        ],\n        \"semantic_type\": \"\",\n        \"description\": \"\"\n      }\n    },\n    {\n      \"column\": \"callbacks.ngeneric\",\n      \"properties\": {\n        \"dtype\": \"number\",\n        \"std\": 0,\n        \"min\": 7,\n        \"max\": 8,\n        \"num_unique_values\": 2,\n        \"samples\": [\n          7,\n          8\n        ],\n        \"semantic_type\": \"\",\n        \"description\": \"\"\n      }\n    },\n    {\n      \"column\": \"psxview.not_in_eprocess_pool_false_avg\",\n      \"properties\": {\n        \"dtype\": \"number\",\n        \"std\": 0.0011330570903391743,\n        \"min\": 0.0,\n        \"max\": 0.027777778,\n        \"num_unique_values\": 45,\n        \"samples\": [\n          0.005377138,\n          0.00468855\n        ],\n        \"semantic_type\": \"\",\n        \"description\": \"\"\n      }\n    },\n    {\n      \"column\": \"psxview.not_in_eprocess_pool\",\n      \"properties\": {\n        \"dtype\": \"number\",\n        \"std\": 0,\n        \"min\": 0,\n        \"max\": 1,\n        \"num_unique_values\": 2,\n        \"samples\": [\n          1,\n          0\n        ],\n        \"semantic_type\": \"\",\n        \"description\": \"\"\n      }\n    },\n    {\n      \"column\": \"callbacks.nanonymous\",\n      \"properties\": {\n        \"dtype\": \"number\",\n        \"std\": 0,\n        \"min\": 0,\n        \"max\": 1,\n        \"num_unique_values\": 2,\n        \"samples\": [\n          1,\n          0\n        ],\n        \"semantic_type\": \"\",\n        \"description\": \"\"\n      }\n    },\n    {\n      \"column\": \"psxview.not_in_session\",\n      \"properties\": {\n        \"dtype\": \"number\",\n        \"std\": 3,\n        \"min\": 2,\n        \"max\": 37,\n        \"num_unique_values\": 35,\n        \"samples\": [\n          22,\n          12\n        ],\n        \"semantic_type\": \"\",\n        \"description\": \"\"\n      }\n    },\n    {\n      \"column\": \"psxview.not_in_pslist\",\n      \"properties\": {\n        \"dtype\": \"number\",\n        \"std\": 3,\n        \"min\": 0,\n        \"max\": 35,\n        \"num_unique_values\": 35,\n        \"samples\": [\n          20,\n          10\n        ],\n        \"semantic_type\": \"\",\n        \"description\": \"\"\n      }\n    },\n    {\n      \"column\": \"psxview.not_in_pspcid_list\",\n      \"properties\": {\n        \"dtype\": \"number\",\n        \"std\": 3,\n        \"min\": 0,\n        \"max\": 35,\n        \"num_unique_values\": 35,\n        \"samples\": [\n          20,\n          10\n        ],\n        \"semantic_type\": \"\",\n        \"description\": \"\"\n      }\n    },\n    {\n      \"column\": \"psxview.not_in_ethread_pool\",\n      \"properties\": {\n        \"dtype\": \"number\",\n        \"std\": 4,\n        \"min\": 0,\n        \"max\": 139,\n        \"num_unique_values\": 53,\n        \"samples\": [\n          28,\n          84\n        ],\n        \"semantic_type\": \"\",\n        \"description\": \"\"\n      }\n    },\n    {\n      \"column\": \"psxview.not_in_csrss_handles\",\n      \"properties\": {\n        \"dtype\": \"number\",\n        \"std\": 4,\n        \"min\": 4,\n        \"max\": 143,\n        \"num_unique_values\": 53,\n        \"samples\": [\n          32,\n          88\n        ],\n        \"semantic_type\": \"\",\n        \"description\": \"\"\n      }\n    },\n    {\n      \"column\": \"psxview.not_in_pslist_false_avg\",\n      \"properties\": {\n        \"dtype\": \"number\",\n        \"std\": 0.057254779386163045,\n        \"min\": 0.0,\n        \"max\": 0.5,\n        \"num_unique_values\": 1788,\n        \"samples\": [\n          0.019439068,\n          0.061232296\n        ],\n        \"semantic_type\": \"\",\n        \"description\": \"\"\n      }\n    },\n    {\n      \"column\": \"psxview.not_in_pspcid_list_false_avg\",\n      \"properties\": {\n        \"dtype\": \"number\",\n        \"std\": 0.057253055216431356,\n        \"min\": 0.0,\n        \"max\": 0.5,\n        \"num_unique_values\": 1787,\n        \"samples\": [\n          0.018289813,\n          0.013520339\n        ],\n        \"semantic_type\": \"\",\n        \"description\": \"\"\n      }\n    },\n    {\n      \"column\": \"psxview.not_in_deskthrd\",\n      \"properties\": {\n        \"dtype\": \"number\",\n        \"std\": 4,\n        \"min\": 4,\n        \"max\": 145,\n        \"num_unique_values\": 55,\n        \"samples\": [\n          41,\n          8\n        ],\n        \"semantic_type\": \"\",\n        \"description\": \"\"\n      }\n    },\n    {\n      \"column\": \"psxview.not_in_ethread_pool_false_avg\",\n      \"properties\": {\n        \"dtype\": \"number\",\n        \"std\": 0.0677683410297114,\n        \"min\": 0.0,\n        \"max\": 0.771084337,\n        \"num_unique_values\": 1925,\n        \"samples\": [\n          0.004066179,\n          0.098591635\n        ],\n        \"semantic_type\": \"\",\n        \"description\": \"\"\n      }\n    },\n    {\n      \"column\": \"psxview.not_in_session_false_avg\",\n      \"properties\": {\n        \"dtype\": \"number\",\n        \"std\": 0.05477006654542432,\n        \"min\": 0.01183432,\n        \"max\": 0.528571429,\n        \"num_unique_values\": 2166,\n        \"samples\": [\n          0.072561934,\n          0.034218211\n        ],\n        \"semantic_type\": \"\",\n        \"description\": \"\"\n      }\n    },\n    {\n      \"column\": \"Class\",\n      \"properties\": {\n        \"dtype\": \"number\",\n        \"std\": 0,\n        \"min\": 0,\n        \"max\": 1,\n        \"num_unique_values\": 2,\n        \"samples\": [\n          0,\n          1\n        ],\n        \"semantic_type\": \"\",\n        \"description\": \"\"\n      }\n    }\n  ]\n}"
            }
          },
          "metadata": {},
          "execution_count": 2
        }
      ]
    },
    {
      "cell_type": "code",
      "source": [
        "def set_seed(seed: int = 42) -> None:\n",
        "    np.random.seed(seed)\n",
        "    random.seed(seed)\n",
        "    torch.manual_seed(seed)\n",
        "    torch.cuda.manual_seed(seed)\n",
        "    # When running on the CuDNN backend, two further options must be set\n",
        "    torch.backends.cudnn.deterministic = True\n",
        "    torch.backends.cudnn.benchmark = False\n",
        "    # Set a fixed value for the hash seed\n",
        "    os.environ[\"PYTHONHASHSEED\"] = str(seed)\n",
        "    print(f\"Random seed set as {seed}\")\n",
        "\n",
        "set_seed(42)"
      ],
      "metadata": {
        "colab": {
          "base_uri": "https://localhost:8080/"
        },
        "id": "o_t6HzYwOUfX",
        "outputId": "465ff085-5080-46ef-9c49-c542a4de620f"
      },
      "execution_count": 3,
      "outputs": [
        {
          "output_type": "stream",
          "name": "stdout",
          "text": [
            "Random seed set as 42\n"
          ]
        }
      ]
    },
    {
      "cell_type": "code",
      "source": [
        "from sklearn.preprocessing import StandardScaler"
      ],
      "metadata": {
        "id": "hVMoFQ4XPU2k"
      },
      "execution_count": 4,
      "outputs": []
    },
    {
      "cell_type": "code",
      "source": [
        "X = df.drop(columns=[\"Class\"])\n",
        "y = df[\"Class\"]\n",
        "\n",
        "X_train, X_test, y_train, y_test = train_test_split(X, y, test_size=0.2, random_state=42)\n",
        "X_train, X_val, y_train, y_val = train_test_split(X_train, y_train, test_size=0.25, random_state=42)\n",
        "\n",
        "X_train.shape, X_val.shape, X_test.shape"
      ],
      "metadata": {
        "colab": {
          "base_uri": "https://localhost:8080/"
        },
        "id": "HETPsPJ0PZPD",
        "outputId": "020c4e87-923d-4fb1-ace4-365344913cb8"
      },
      "execution_count": 5,
      "outputs": [
        {
          "output_type": "execute_result",
          "data": {
            "text/plain": [
              "((6000, 15), (2000, 15), (2000, 15))"
            ]
          },
          "metadata": {},
          "execution_count": 5
        }
      ]
    },
    {
      "cell_type": "code",
      "source": [
        "scaler = StandardScaler()\n",
        "X_train_scaled = scaler.fit_transform(X_train)\n",
        "X_val_scaled = scaler.transform(X_val)\n",
        "X_test_scaled = scaler.transform(X_test)"
      ],
      "metadata": {
        "id": "8m4d94KQPZRw"
      },
      "execution_count": 6,
      "outputs": []
    },
    {
      "cell_type": "code",
      "source": [
        "class MalwareDataset(Dataset):\n",
        "    def __init__(self, features, labels):\n",
        "        self.features = torch.tensor(features, dtype=torch.float32)\n",
        "        self.labels = torch.tensor(labels.values, dtype=torch.long)\n",
        "\n",
        "    def __len__(self):\n",
        "        return len(self.labels)\n",
        "\n",
        "    def __getitem__(self, idx):\n",
        "        return self.features[idx], self.labels[idx]"
      ],
      "metadata": {
        "id": "Pt6j5p-FPZVS"
      },
      "execution_count": 7,
      "outputs": []
    },
    {
      "cell_type": "code",
      "source": [
        "train_dataset = MalwareDataset(X_train_scaled, y_train)\n",
        "val_dataset = MalwareDataset(X_val_scaled, y_val)\n",
        "test_dataset = MalwareDataset(X_test_scaled, y_test)"
      ],
      "metadata": {
        "id": "uSzAawkRQZEc"
      },
      "execution_count": 8,
      "outputs": []
    },
    {
      "cell_type": "code",
      "source": [
        "batch_size = 32\n",
        "train_loader = DataLoader(train_dataset, batch_size=batch_size, shuffle=True)\n",
        "val_loader = DataLoader(val_dataset, batch_size=batch_size, shuffle=False)\n",
        "test_loader = DataLoader(test_dataset, batch_size=batch_size, shuffle=False)"
      ],
      "metadata": {
        "id": "n2DhKdHpQZHB"
      },
      "execution_count": 13,
      "outputs": []
    },
    {
      "cell_type": "markdown",
      "source": [
        "**Модель с ReLu**"
      ],
      "metadata": {
        "id": "tji1mZ14d7BM"
      }
    },
    {
      "cell_type": "code",
      "source": [
        "class MLPModel(nn.Module):\n",
        "    def __init__(self, input_size, hidden_sizes):\n",
        "        super(MLPModel, self).__init__()\n",
        "        layers = []\n",
        "        current_size = input_size\n",
        "\n",
        "        for hidden_size in hidden_sizes:\n",
        "            layers.append(nn.Linear(current_size, hidden_size))\n",
        "            layers.append(nn.ReLU())  # Выбор функции активации\n",
        "            current_size = hidden_size\n",
        "\n",
        "        layers.append(nn.Linear(current_size, 1))\n",
        "        layers.append(nn.Sigmoid())  # Для бинарной классификации\n",
        "        self.network = nn.Sequential(*layers)\n",
        "\n",
        "    def forward(self, x):\n",
        "        return self.network(x)\n",
        "\n",
        "# Определение параметров модели\n",
        "input_size = X_train_scaled.shape[1]\n",
        "hidden_sizes = [64, 32]  # Оптимальные размеры скрытых слоев\n",
        "\n",
        "# Создание модели\n",
        "model = MLPModel(input_size, hidden_sizes)\n",
        "\n",
        "# Перевод модели на GPU, если доступно\n",
        "device = torch.device(\"cuda\" if torch.cuda.is_available() else \"cpu\")\n",
        "model = model.to(device)\n",
        "\n",
        "\n",
        "print(model)"
      ],
      "metadata": {
        "colab": {
          "base_uri": "https://localhost:8080/"
        },
        "id": "pu7-gJU4QZKk",
        "outputId": "264f2853-379a-4361-84d2-e4a38aa39c71"
      },
      "execution_count": null,
      "outputs": [
        {
          "output_type": "stream",
          "name": "stdout",
          "text": [
            "MLPModel(\n",
            "  (network): Sequential(\n",
            "    (0): Linear(in_features=15, out_features=64, bias=True)\n",
            "    (1): ReLU()\n",
            "    (2): Linear(in_features=64, out_features=32, bias=True)\n",
            "    (3): ReLU()\n",
            "    (4): Linear(in_features=32, out_features=1, bias=True)\n",
            "    (5): Sigmoid()\n",
            "  )\n",
            ")\n"
          ]
        }
      ]
    },
    {
      "cell_type": "code",
      "source": [
        "criterion = nn.BCELoss()\n",
        "optimizer = optim.Adam(model.parameters(), lr=0.001)\n",
        "\n",
        "# Циклы обучения и валидации\n",
        "num_epochs = 50\n",
        "train_losses = []\n",
        "val_losses = []\n",
        "\n",
        "for epoch in range(num_epochs):\n",
        "    # Train loop\n",
        "    model.train()\n",
        "    train_loss = 0.0\n",
        "    for features, labels in train_loader:\n",
        "        features, labels = features.to(device), labels.to(device)\n",
        "\n",
        "        # Добавляем новое измерение к labels и преобразуем к Float\n",
        "        labels = labels.unsqueeze(1).float()\n",
        "\n",
        "        optimizer.zero_grad()\n",
        "        outputs = model(features)\n",
        "        loss = criterion(outputs, labels)\n",
        "        loss.backward()\n",
        "        optimizer.step()\n",
        "\n",
        "        train_loss += loss.item() * features.size(0)\n",
        "\n",
        "    train_loss /= len(train_loader.dataset)\n",
        "    train_losses.append(train_loss)\n",
        "\n",
        "    model.eval()\n",
        "    val_loss = 0.0\n",
        "    with torch.no_grad():\n",
        "        for features, labels in val_loader:\n",
        "            features, labels = features.to(device), labels.to(device)\n",
        "            outputs = model(features)\n",
        "            labels = labels.unsqueeze(1).float()\n",
        "            loss = criterion(outputs, labels)\n",
        "            val_loss += loss.item() * features.size(0)\n",
        "\n",
        "    val_loss /= len(val_loader.dataset)\n",
        "    val_losses.append(val_loss)\n",
        "\n",
        "    print(f\"Epoch {epoch+1}/{num_epochs}, Train Loss: {train_loss:.4f}, Val Loss: {val_loss:.4f}\")\n",
        "\n",
        "# Визуализация динамики функции потерь\n",
        "plt.figure(figsize=(10, 6))\n",
        "plt.plot(range(1, num_epochs + 1), train_losses, label=\"Train Loss\")\n",
        "plt.plot(range(1, num_epochs + 1), val_losses, label=\"Val Loss\")\n",
        "plt.xlabel(\"Epoch\")\n",
        "plt.ylabel(\"Loss\")\n",
        "plt.title(\"Loss Dynamics\")\n",
        "plt.legend()\n",
        "plt.grid()\n",
        "plt.show()"
      ],
      "metadata": {
        "colab": {
          "base_uri": "https://localhost:8080/",
          "height": 1000
        },
        "id": "F6D6YnIOYymN",
        "outputId": "2d457267-bb20-4afe-919d-a3792fcc0a9a"
      },
      "execution_count": null,
      "outputs": [
        {
          "output_type": "stream",
          "name": "stdout",
          "text": [
            "Epoch 1/50, Train Loss: 0.6676, Val Loss: 0.6511\n",
            "Epoch 2/50, Train Loss: 0.6380, Val Loss: 0.6292\n",
            "Epoch 3/50, Train Loss: 0.6090, Val Loss: 0.6015\n",
            "Epoch 4/50, Train Loss: 0.5799, Val Loss: 0.5801\n",
            "Epoch 5/50, Train Loss: 0.5511, Val Loss: 0.5454\n",
            "Epoch 6/50, Train Loss: 0.5314, Val Loss: 0.5315\n",
            "Epoch 7/50, Train Loss: 0.5156, Val Loss: 0.5203\n",
            "Epoch 8/50, Train Loss: 0.5051, Val Loss: 0.5151\n",
            "Epoch 9/50, Train Loss: 0.4931, Val Loss: 0.5493\n",
            "Epoch 10/50, Train Loss: 0.4884, Val Loss: 0.5075\n",
            "Epoch 11/50, Train Loss: 0.4851, Val Loss: 0.4977\n",
            "Epoch 12/50, Train Loss: 0.4770, Val Loss: 0.5029\n",
            "Epoch 13/50, Train Loss: 0.4768, Val Loss: 0.4877\n",
            "Epoch 14/50, Train Loss: 0.4734, Val Loss: 0.4982\n",
            "Epoch 15/50, Train Loss: 0.4714, Val Loss: 0.5163\n",
            "Epoch 16/50, Train Loss: 0.4727, Val Loss: 0.4837\n",
            "Epoch 17/50, Train Loss: 0.4671, Val Loss: 0.4859\n",
            "Epoch 18/50, Train Loss: 0.4650, Val Loss: 0.4941\n",
            "Epoch 19/50, Train Loss: 0.4692, Val Loss: 0.4803\n",
            "Epoch 20/50, Train Loss: 0.4647, Val Loss: 0.4764\n",
            "Epoch 21/50, Train Loss: 0.4619, Val Loss: 0.4778\n",
            "Epoch 22/50, Train Loss: 0.4592, Val Loss: 0.4936\n",
            "Epoch 23/50, Train Loss: 0.4570, Val Loss: 0.4771\n",
            "Epoch 24/50, Train Loss: 0.4546, Val Loss: 0.4727\n",
            "Epoch 25/50, Train Loss: 0.4545, Val Loss: 0.4904\n",
            "Epoch 26/50, Train Loss: 0.4509, Val Loss: 0.4722\n",
            "Epoch 27/50, Train Loss: 0.4536, Val Loss: 0.4696\n",
            "Epoch 28/50, Train Loss: 0.4546, Val Loss: 0.4861\n",
            "Epoch 29/50, Train Loss: 0.4489, Val Loss: 0.4694\n",
            "Epoch 30/50, Train Loss: 0.4496, Val Loss: 0.4642\n",
            "Epoch 31/50, Train Loss: 0.4455, Val Loss: 0.4829\n",
            "Epoch 32/50, Train Loss: 0.4461, Val Loss: 0.4600\n",
            "Epoch 33/50, Train Loss: 0.4498, Val Loss: 0.4707\n",
            "Epoch 34/50, Train Loss: 0.4427, Val Loss: 0.4567\n",
            "Epoch 35/50, Train Loss: 0.4439, Val Loss: 0.4726\n",
            "Epoch 36/50, Train Loss: 0.4429, Val Loss: 0.4596\n",
            "Epoch 37/50, Train Loss: 0.4416, Val Loss: 0.4627\n",
            "Epoch 38/50, Train Loss: 0.4398, Val Loss: 0.4611\n",
            "Epoch 39/50, Train Loss: 0.4380, Val Loss: 0.4806\n",
            "Epoch 40/50, Train Loss: 0.4357, Val Loss: 0.4550\n",
            "Epoch 41/50, Train Loss: 0.4342, Val Loss: 0.4575\n",
            "Epoch 42/50, Train Loss: 0.4350, Val Loss: 0.4509\n",
            "Epoch 43/50, Train Loss: 0.4387, Val Loss: 0.4760\n",
            "Epoch 44/50, Train Loss: 0.4330, Val Loss: 0.4692\n",
            "Epoch 45/50, Train Loss: 0.4326, Val Loss: 0.4484\n",
            "Epoch 46/50, Train Loss: 0.4332, Val Loss: 0.4567\n",
            "Epoch 47/50, Train Loss: 0.4328, Val Loss: 0.4620\n",
            "Epoch 48/50, Train Loss: 0.4271, Val Loss: 0.4436\n",
            "Epoch 49/50, Train Loss: 0.4302, Val Loss: 0.4764\n",
            "Epoch 50/50, Train Loss: 0.4279, Val Loss: 0.4462\n"
          ]
        },
        {
          "output_type": "display_data",
          "data": {
            "text/plain": [
              "<Figure size 1000x600 with 1 Axes>"
            ],
            "image/png": "[encoded data removed]"
          },
          "metadata": {}
        }
      ]
    },
    {
      "cell_type": "code",
      "source": [
        "model.eval()\n",
        "predictions = []\n",
        "true_labels = []\n",
        "\n",
        "with torch.no_grad():\n",
        "    for features, labels in test_loader:\n",
        "        features = features.to(device)\n",
        "        outputs = model(features)\n",
        "        predictions.extend(outputs.cpu().numpy())\n",
        "        true_labels.extend(labels.numpy())\n",
        "\n",
        "predictions = [1 if pred > 0.5 else 0 for pred in predictions]\n",
        "print(classification_report(true_labels, predictions))"
      ],
      "metadata": {
        "colab": {
          "base_uri": "https://localhost:8080/"
        },
        "id": "uGBveeyRYyop",
        "outputId": "f1750057-1cc0-4a64-bfe0-fdd04b933a2a"
      },
      "execution_count": null,
      "outputs": [
        {
          "output_type": "stream",
          "name": "stdout",
          "text": [
            "              precision    recall  f1-score   support\n",
            "\n",
            "           0       0.78      0.88      0.83       988\n",
            "           1       0.87      0.76      0.81      1012\n",
            "\n",
            "    accuracy                           0.82      2000\n",
            "   macro avg       0.83      0.82      0.82      2000\n",
            "weighted avg       0.83      0.82      0.82      2000\n",
            "\n"
          ]
        }
      ]
    },
    {
      "cell_type": "markdown",
      "source": [
        "**Модель с Sigmoid**"
      ],
      "metadata": {
        "id": "FeaoegvWeC9-"
      }
    },
    {
      "cell_type": "code",
      "source": [
        "class MLPModel(nn.Module):\n",
        "    def __init__(self, input_size, hidden_sizes):\n",
        "        super(MLPModel, self).__init__()\n",
        "        layers = []\n",
        "        current_size = input_size\n",
        "\n",
        "        for hidden_size in hidden_sizes:\n",
        "            layers.append(nn.Linear(current_size, hidden_size))\n",
        "            layers.append(nn.Sigmoid())  # Выбор функции активации\n",
        "            current_size = hidden_size\n",
        "\n",
        "        layers.append(nn.Linear(current_size, 1))\n",
        "        layers.append(nn.Sigmoid())  # Для бинарной классификации\n",
        "        self.network = nn.Sequential(*layers)\n",
        "\n",
        "    def forward(self, x):\n",
        "        return self.network(x)\n",
        "\n",
        "# Определение параметров модели\n",
        "input_size = X_train_scaled.shape[1]\n",
        "hidden_sizes = [64, 32]  # Оптимальные размеры скрытых слоев\n",
        "\n",
        "# Создание модели\n",
        "model = MLPModel(input_size, hidden_sizes)\n",
        "\n",
        "# Перевод модели на GPU, если доступно\n",
        "device = torch.device(\"cuda\" if torch.cuda.is_available() else \"cpu\")\n",
        "model = model.to(device)\n",
        "\n",
        "\n",
        "print(model)"
      ],
      "metadata": {
        "colab": {
          "base_uri": "https://localhost:8080/"
        },
        "id": "aHyCvPBZYysP",
        "outputId": "6952771d-77b2-4524-dae3-dffae89cfa13"
      },
      "execution_count": null,
      "outputs": [
        {
          "output_type": "stream",
          "name": "stdout",
          "text": [
            "MLPModel(\n",
            "  (network): Sequential(\n",
            "    (0): Linear(in_features=15, out_features=64, bias=True)\n",
            "    (1): Sigmoid()\n",
            "    (2): Linear(in_features=64, out_features=32, bias=True)\n",
            "    (3): Sigmoid()\n",
            "    (4): Linear(in_features=32, out_features=1, bias=True)\n",
            "    (5): Sigmoid()\n",
            "  )\n",
            ")\n"
          ]
        }
      ]
    },
    {
      "cell_type": "code",
      "source": [
        "criterion = nn.BCELoss()\n",
        "optimizer = optim.Adam(model.parameters(), lr=0.001)\n",
        "\n",
        "# Циклы обучения и валидации\n",
        "num_epochs = 50\n",
        "train_losses = []\n",
        "val_losses = []\n",
        "\n",
        "for epoch in range(num_epochs):\n",
        "    # Train loop\n",
        "    model.train()\n",
        "    train_loss = 0.0\n",
        "    for features, labels in train_loader:\n",
        "        features, labels = features.to(device), labels.to(device)\n",
        "\n",
        "        # Добавляем новое измерение к labels и преобразуем к Float\n",
        "        labels = labels.unsqueeze(1).float()\n",
        "\n",
        "        optimizer.zero_grad()\n",
        "        outputs = model(features)\n",
        "        loss = criterion(outputs, labels)\n",
        "        loss.backward()\n",
        "        optimizer.step()\n",
        "\n",
        "        train_loss += loss.item() * features.size(0)\n",
        "\n",
        "    train_loss /= len(train_loader.dataset)\n",
        "    train_losses.append(train_loss)\n",
        "\n",
        "    model.eval()\n",
        "    val_loss = 0.0\n",
        "    with torch.no_grad():\n",
        "        for features, labels in val_loader:\n",
        "            features, labels = features.to(device), labels.to(device)\n",
        "            outputs = model(features)\n",
        "            labels = labels.unsqueeze(1).float()\n",
        "            loss = criterion(outputs, labels)\n",
        "            val_loss += loss.item() * features.size(0)\n",
        "\n",
        "    val_loss /= len(val_loader.dataset)\n",
        "    val_losses.append(val_loss)\n",
        "\n",
        "    print(f\"Epoch {epoch+1}/{num_epochs}, Train Loss: {train_loss:.4f}, Val Loss: {val_loss:.4f}\")\n",
        "\n",
        "# Визуализация динамики функции потерь\n",
        "plt.figure(figsize=(10, 6))\n",
        "plt.plot(range(1, num_epochs + 1), train_losses, label=\"Train Loss\")\n",
        "plt.plot(range(1, num_epochs + 1), val_losses, label=\"Val Loss\")\n",
        "plt.xlabel(\"Epoch\")\n",
        "plt.ylabel(\"Loss\")\n",
        "plt.title(\"Loss Dynamics\")\n",
        "plt.legend()\n",
        "plt.grid()\n",
        "plt.show()"
      ],
      "metadata": {
        "colab": {
          "base_uri": "https://localhost:8080/",
          "height": 1000
        },
        "id": "bRgCcsLfeSPb",
        "outputId": "604d322b-e1f8-4213-9bf7-cd90fd3618ed"
      },
      "execution_count": null,
      "outputs": [
        {
          "output_type": "stream",
          "name": "stdout",
          "text": [
            "Epoch 1/50, Train Loss: 0.6897, Val Loss: 0.6808\n",
            "Epoch 2/50, Train Loss: 0.6808, Val Loss: 0.6731\n",
            "Epoch 3/50, Train Loss: 0.6754, Val Loss: 0.6690\n",
            "Epoch 4/50, Train Loss: 0.6710, Val Loss: 0.6665\n",
            "Epoch 5/50, Train Loss: 0.6674, Val Loss: 0.6606\n",
            "Epoch 6/50, Train Loss: 0.6598, Val Loss: 0.6588\n",
            "Epoch 7/50, Train Loss: 0.6534, Val Loss: 0.6518\n",
            "Epoch 8/50, Train Loss: 0.6466, Val Loss: 0.6431\n",
            "Epoch 9/50, Train Loss: 0.6411, Val Loss: 0.6451\n",
            "Epoch 10/50, Train Loss: 0.6362, Val Loss: 0.6344\n",
            "Epoch 11/50, Train Loss: 0.6307, Val Loss: 0.6355\n",
            "Epoch 12/50, Train Loss: 0.6263, Val Loss: 0.6253\n",
            "Epoch 13/50, Train Loss: 0.6218, Val Loss: 0.6222\n",
            "Epoch 14/50, Train Loss: 0.6159, Val Loss: 0.6176\n",
            "Epoch 15/50, Train Loss: 0.6106, Val Loss: 0.6115\n",
            "Epoch 16/50, Train Loss: 0.6043, Val Loss: 0.6059\n",
            "Epoch 17/50, Train Loss: 0.5969, Val Loss: 0.6045\n",
            "Epoch 18/50, Train Loss: 0.5907, Val Loss: 0.6112\n",
            "Epoch 19/50, Train Loss: 0.5854, Val Loss: 0.5860\n",
            "Epoch 20/50, Train Loss: 0.5782, Val Loss: 0.5794\n",
            "Epoch 21/50, Train Loss: 0.5756, Val Loss: 0.5738\n",
            "Epoch 22/50, Train Loss: 0.5688, Val Loss: 0.5727\n",
            "Epoch 23/50, Train Loss: 0.5645, Val Loss: 0.5654\n",
            "Epoch 24/50, Train Loss: 0.5581, Val Loss: 0.5626\n",
            "Epoch 25/50, Train Loss: 0.5535, Val Loss: 0.5629\n",
            "Epoch 26/50, Train Loss: 0.5493, Val Loss: 0.5635\n",
            "Epoch 27/50, Train Loss: 0.5478, Val Loss: 0.5505\n",
            "Epoch 28/50, Train Loss: 0.5432, Val Loss: 0.5609\n",
            "Epoch 29/50, Train Loss: 0.5399, Val Loss: 0.5506\n",
            "Epoch 30/50, Train Loss: 0.5358, Val Loss: 0.5434\n",
            "Epoch 31/50, Train Loss: 0.5344, Val Loss: 0.5414\n",
            "Epoch 32/50, Train Loss: 0.5312, Val Loss: 0.5456\n",
            "Epoch 33/50, Train Loss: 0.5327, Val Loss: 0.5433\n",
            "Epoch 34/50, Train Loss: 0.5300, Val Loss: 0.5377\n",
            "Epoch 35/50, Train Loss: 0.5261, Val Loss: 0.5474\n",
            "Epoch 36/50, Train Loss: 0.5237, Val Loss: 0.5390\n",
            "Epoch 37/50, Train Loss: 0.5244, Val Loss: 0.5299\n",
            "Epoch 38/50, Train Loss: 0.5246, Val Loss: 0.5348\n",
            "Epoch 39/50, Train Loss: 0.5218, Val Loss: 0.5318\n",
            "Epoch 40/50, Train Loss: 0.5217, Val Loss: 0.5292\n",
            "Epoch 41/50, Train Loss: 0.5205, Val Loss: 0.5314\n",
            "Epoch 42/50, Train Loss: 0.5198, Val Loss: 0.5316\n",
            "Epoch 43/50, Train Loss: 0.5172, Val Loss: 0.5291\n",
            "Epoch 44/50, Train Loss: 0.5156, Val Loss: 0.5276\n",
            "Epoch 45/50, Train Loss: 0.5152, Val Loss: 0.5318\n",
            "Epoch 46/50, Train Loss: 0.5146, Val Loss: 0.5257\n",
            "Epoch 47/50, Train Loss: 0.5136, Val Loss: 0.5221\n",
            "Epoch 48/50, Train Loss: 0.5142, Val Loss: 0.5292\n",
            "Epoch 49/50, Train Loss: 0.5114, Val Loss: 0.5259\n",
            "Epoch 50/50, Train Loss: 0.5135, Val Loss: 0.5232\n"
          ]
        },
        {
          "output_type": "display_data",
          "data": {
            "text/plain": [
              "<Figure size 1000x600 with 1 Axes>"
            ],
            "image/png": "[encoded data removed]"
          },
          "metadata": {}
        }
      ]
    },
    {
      "cell_type": "code",
      "source": [
        "model.eval()\n",
        "predictions = []\n",
        "true_labels = []\n",
        "\n",
        "with torch.no_grad():\n",
        "    for features, labels in test_loader:\n",
        "        features = features.to(device)\n",
        "        outputs = model(features)\n",
        "        predictions.extend(outputs.cpu().numpy())\n",
        "        true_labels.extend(labels.numpy())\n",
        "\n",
        "predictions = [1 if pred > 0.5 else 0 for pred in predictions]\n",
        "print(classification_report(true_labels, predictions))"
      ],
      "metadata": {
        "colab": {
          "base_uri": "https://localhost:8080/"
        },
        "id": "q6OYRhMlecN8",
        "outputId": "eea167f0-c5ae-4a2e-c7da-8960676c2cb2"
      },
      "execution_count": null,
      "outputs": [
        {
          "output_type": "stream",
          "name": "stdout",
          "text": [
            "              precision    recall  f1-score   support\n",
            "\n",
            "           0       0.78      0.68      0.73       988\n",
            "           1       0.72      0.81      0.77      1012\n",
            "\n",
            "    accuracy                           0.75      2000\n",
            "   macro avg       0.75      0.75      0.75      2000\n",
            "weighted avg       0.75      0.75      0.75      2000\n",
            "\n"
          ]
        }
      ]
    },
    {
      "cell_type": "markdown",
      "source": [
        "Так как для бинарной классификации больше подходят Relu и Sigmoid, и по отчету метрик что при использовании Relu кочество модели выше. Будем оптимизировать модель с Relu"
      ],
      "metadata": {
        "id": "T6QYoPLgi3ID"
      }
    },
    {
      "cell_type": "code",
      "source": [
        "class ImprovedMLPModel(nn.Module):\n",
        "    def __init__(self, input_size, hidden_sizes, dropout_prob=0.3):\n",
        "        super(ImprovedMLPModel, self).__init__()\n",
        "        layers = []\n",
        "        current_size = input_size\n",
        "\n",
        "        for hidden_size in hidden_sizes:\n",
        "            layers.append(nn.Linear(current_size, hidden_size))\n",
        "            layers.append(nn.BatchNorm1d(hidden_size))\n",
        "            layers.append(nn.ReLU())\n",
        "            layers.append(nn.Dropout(dropout_prob))\n",
        "            current_size = hidden_size\n",
        "\n",
        "        layers.append(nn.Linear(current_size, 1))\n",
        "        layers.append(nn.Sigmoid())\n",
        "\n",
        "        self.network = nn.Sequential(*layers)\n",
        "\n",
        "    def forward(self, x):\n",
        "        return self.network(x)\n",
        "\n",
        "input_size = X_train_scaled.shape[1]\n",
        "hidden_sizes = [64, 32]\n",
        "dropout_prob = 0.3\n",
        "\n",
        "model = ImprovedMLPModel(input_size, hidden_sizes, dropout_prob)\n",
        "\n",
        "device = torch.device(\"cuda\" if torch.cuda.is_available() else \"cpu\")\n",
        "model = model.to(device)\n",
        "print(model)"
      ],
      "metadata": {
        "colab": {
          "base_uri": "https://localhost:8080/"
        },
        "id": "x4VDcY2djMy0",
        "outputId": "bc9faf8d-6239-4636-b60f-0bebb4adc4a0"
      },
      "execution_count": null,
      "outputs": [
        {
          "output_type": "stream",
          "name": "stdout",
          "text": [
            "ImprovedMLPModel(\n",
            "  (network): Sequential(\n",
            "    (0): Linear(in_features=15, out_features=64, bias=True)\n",
            "    (1): BatchNorm1d(64, eps=1e-05, momentum=0.1, affine=True, track_running_stats=True)\n",
            "    (2): ReLU()\n",
            "    (3): Dropout(p=0.3, inplace=False)\n",
            "    (4): Linear(in_features=64, out_features=32, bias=True)\n",
            "    (5): BatchNorm1d(32, eps=1e-05, momentum=0.1, affine=True, track_running_stats=True)\n",
            "    (6): ReLU()\n",
            "    (7): Dropout(p=0.3, inplace=False)\n",
            "    (8): Linear(in_features=32, out_features=1, bias=True)\n",
            "    (9): Sigmoid()\n",
            "  )\n",
            ")\n"
          ]
        }
      ]
    },
    {
      "cell_type": "code",
      "source": [
        "print(f\"X_train_scaled: {X_train_scaled.dtype}\")\n",
        "print(f\"labels: {labels.dtype}\")"
      ],
      "metadata": {
        "colab": {
          "base_uri": "https://localhost:8080/"
        },
        "id": "WSTcAwqzmlyG",
        "outputId": "9d7d04c6-e951-49ba-bfbf-169e2db3a5ed"
      },
      "execution_count": null,
      "outputs": [
        {
          "output_type": "stream",
          "name": "stdout",
          "text": [
            "X_train_scaled: float64\n",
            "labels: torch.int64\n"
          ]
        }
      ]
    },
    {
      "cell_type": "code",
      "source": [
        "criterion = nn.BCELoss()\n",
        "optimizer = optim.Adam(model.parameters(), lr=0.001)\n",
        "\n",
        "# Циклы обучения и валидации\n",
        "num_epochs = 50\n",
        "train_losses = []\n",
        "val_losses = []\n",
        "\n",
        "for epoch in range(num_epochs):\n",
        "    # Train loop\n",
        "    model.train()\n",
        "    train_loss = 0.0\n",
        "    for features, labels in train_loader:\n",
        "        #features, labels = features.to(device), labels.to(device)\n",
        "\n",
        "        labels = labels.unsqueeze(1).float()\n",
        "\n",
        "        optimizer.zero_grad()\n",
        "        outputs = model(features)\n",
        "        loss = criterion(outputs, labels)\n",
        "        loss.backward()\n",
        "        optimizer.step()\n",
        "\n",
        "        train_loss += loss.item() * features.size(0)\n",
        "\n",
        "    train_loss /= len(train_loader.dataset)\n",
        "    train_losses.append(train_loss)\n",
        "\n",
        "    model.eval()\n",
        "    val_loss = 0.0\n",
        "    with torch.no_grad():\n",
        "        for features, labels in val_loader:\n",
        "            features, labels = features.to(device), labels.to(device)\n",
        "            outputs = model(features)\n",
        "            labels = labels.unsqueeze(1).float()\n",
        "            loss = criterion(outputs, labels)\n",
        "            val_loss += loss.item() * features.size(0)\n",
        "\n",
        "    val_loss /= len(val_loader.dataset)\n",
        "    val_losses.append(val_loss)\n",
        "\n",
        "    print(f\"Epoch {epoch+1}/{num_epochs}, Train Loss: {train_loss:.4f}, Val Loss: {val_loss:.4f}\")\n",
        "\n",
        "# Визуализация динамики функции потерь\n",
        "plt.figure(figsize=(10, 6))\n",
        "plt.plot(range(1, num_epochs + 1), train_losses, label=\"Train Loss\")\n",
        "plt.plot(range(1, num_epochs + 1), val_losses, label=\"Val Loss\")\n",
        "plt.xlabel(\"Epoch\")\n",
        "plt.ylabel(\"Loss\")\n",
        "plt.title(\"Loss Dynamics\")\n",
        "plt.legend()\n",
        "plt.grid()\n",
        "plt.show()"
      ],
      "metadata": {
        "colab": {
          "base_uri": "https://localhost:8080/",
          "height": 1000
        },
        "id": "bEim_2DqjM-w",
        "outputId": "9b1a3be9-6044-4152-8197-649ae963079c"
      },
      "execution_count": null,
      "outputs": [
        {
          "output_type": "stream",
          "name": "stdout",
          "text": [
            "Epoch 1/50, Train Loss: 0.6439, Val Loss: 0.6478\n",
            "Epoch 2/50, Train Loss: 0.6024, Val Loss: 0.6354\n",
            "Epoch 3/50, Train Loss: 0.5711, Val Loss: 0.6358\n",
            "Epoch 4/50, Train Loss: 0.5769, Val Loss: 0.5737\n",
            "Epoch 5/50, Train Loss: 0.5614, Val Loss: 0.5783\n",
            "Epoch 6/50, Train Loss: 0.5552, Val Loss: 0.5861\n",
            "Epoch 7/50, Train Loss: 0.5500, Val Loss: 0.5576\n",
            "Epoch 8/50, Train Loss: 0.5556, Val Loss: 0.6242\n",
            "Epoch 9/50, Train Loss: 0.5411, Val Loss: 0.6147\n",
            "Epoch 10/50, Train Loss: 0.5438, Val Loss: 0.5934\n",
            "Epoch 11/50, Train Loss: 0.5336, Val Loss: 0.5983\n",
            "Epoch 12/50, Train Loss: 0.5392, Val Loss: 0.5655\n",
            "Epoch 13/50, Train Loss: 0.5377, Val Loss: 0.5105\n",
            "Epoch 14/50, Train Loss: 0.5267, Val Loss: 0.5665\n",
            "Epoch 15/50, Train Loss: 0.5335, Val Loss: 0.6073\n",
            "Epoch 16/50, Train Loss: 0.5208, Val Loss: 0.5363\n",
            "Epoch 17/50, Train Loss: 0.5308, Val Loss: 0.6008\n",
            "Epoch 18/50, Train Loss: 0.5188, Val Loss: 0.5959\n",
            "Epoch 19/50, Train Loss: 0.5262, Val Loss: 0.5553\n",
            "Epoch 20/50, Train Loss: 0.5258, Val Loss: 0.5586\n",
            "Epoch 21/50, Train Loss: 0.5199, Val Loss: 0.5587\n",
            "Epoch 22/50, Train Loss: 0.5113, Val Loss: 0.5330\n",
            "Epoch 23/50, Train Loss: 0.5179, Val Loss: 0.5114\n",
            "Epoch 24/50, Train Loss: 0.5197, Val Loss: 0.5530\n",
            "Epoch 25/50, Train Loss: 0.5198, Val Loss: 0.5568\n",
            "Epoch 26/50, Train Loss: 0.5180, Val Loss: 0.5636\n",
            "Epoch 27/50, Train Loss: 0.5100, Val Loss: 0.5835\n",
            "Epoch 28/50, Train Loss: 0.5097, Val Loss: 0.5434\n",
            "Epoch 29/50, Train Loss: 0.5159, Val Loss: 0.5640\n",
            "Epoch 30/50, Train Loss: 0.5047, Val Loss: 0.5484\n",
            "Epoch 31/50, Train Loss: 0.5076, Val Loss: 0.5218\n",
            "Epoch 32/50, Train Loss: 0.5066, Val Loss: 0.6034\n",
            "Epoch 33/50, Train Loss: 0.5152, Val Loss: 0.5443\n",
            "Epoch 34/50, Train Loss: 0.5067, Val Loss: 0.5883\n",
            "Epoch 35/50, Train Loss: 0.5077, Val Loss: 0.6078\n",
            "Epoch 36/50, Train Loss: 0.5109, Val Loss: 0.5432\n",
            "Epoch 37/50, Train Loss: 0.5078, Val Loss: 0.6549\n",
            "Epoch 38/50, Train Loss: 0.5053, Val Loss: 0.5257\n",
            "Epoch 39/50, Train Loss: 0.5162, Val Loss: 0.5168\n",
            "Epoch 40/50, Train Loss: 0.5060, Val Loss: 0.5161\n",
            "Epoch 41/50, Train Loss: 0.5082, Val Loss: 0.5595\n",
            "Epoch 42/50, Train Loss: 0.5098, Val Loss: 0.4860\n",
            "Epoch 43/50, Train Loss: 0.5085, Val Loss: 0.5186\n",
            "Epoch 44/50, Train Loss: 0.4963, Val Loss: 0.5679\n",
            "Epoch 45/50, Train Loss: 0.5060, Val Loss: 0.6149\n",
            "Epoch 46/50, Train Loss: 0.5020, Val Loss: 0.5142\n",
            "Epoch 47/50, Train Loss: 0.4987, Val Loss: 0.5162\n",
            "Epoch 48/50, Train Loss: 0.5109, Val Loss: 0.5153\n",
            "Epoch 49/50, Train Loss: 0.4992, Val Loss: 0.5154\n",
            "Epoch 50/50, Train Loss: 0.4948, Val Loss: 0.5181\n"
          ]
        },
        {
          "output_type": "display_data",
          "data": {
            "text/plain": [
              "<Figure size 1000x600 with 1 Axes>"
            ],
            "image/png": "[encoded data removed]"
          },
          "metadata": {}
        }
      ]
    },
    {
      "cell_type": "code",
      "source": [
        "model.eval()\n",
        "predictions = []\n",
        "true_labels = []\n",
        "\n",
        "with torch.no_grad():\n",
        "    for features, labels in test_loader:\n",
        "        features = features.to(device)\n",
        "        outputs = model(features)\n",
        "        predictions.extend(outputs.cpu().numpy())\n",
        "        true_labels.extend(labels.numpy())\n",
        "\n",
        "# Преобразование выходов в 0 или 1 для бинарной классификации\n",
        "predictions = [1 if pred > 0.5 else 0 for pred in predictions]\n",
        "print(classification_report(true_labels, predictions))"
      ],
      "metadata": {
        "colab": {
          "base_uri": "https://localhost:8080/"
        },
        "id": "AEoykJ3TrRXQ",
        "outputId": "c0f8cefb-692d-4042-a9c9-f0875407858b"
      },
      "execution_count": null,
      "outputs": [
        {
          "output_type": "stream",
          "name": "stdout",
          "text": [
            "              precision    recall  f1-score   support\n",
            "\n",
            "           0       0.80      0.67      0.73       988\n",
            "           1       0.72      0.84      0.78      1012\n",
            "\n",
            "    accuracy                           0.76      2000\n",
            "   macro avg       0.76      0.75      0.75      2000\n",
            "weighted avg       0.76      0.76      0.75      2000\n",
            "\n"
          ]
        }
      ]
    },
    {
      "cell_type": "markdown",
      "source": [
        "Отчет по метрикам, если БачНорм после активации"
      ],
      "metadata": {
        "id": "rAw0hii8rJg7"
      }
    },
    {
      "cell_type": "code",
      "source": [
        "model.eval()\n",
        "predictions = []\n",
        "true_labels = []\n",
        "\n",
        "with torch.no_grad():\n",
        "    for features, labels in test_loader:\n",
        "        features = features.to(device)\n",
        "        outputs = model(features)\n",
        "        predictions.extend(outputs.cpu().numpy())\n",
        "        true_labels.extend(labels.numpy())\n",
        "\n",
        "# Преобразование выходов в 0 или 1 для бинарной классификации\n",
        "predictions = [1 if pred > 0.5 else 0 for pred in predictions]\n",
        "print(classification_report(true_labels, predictions))"
      ],
      "metadata": {
        "colab": {
          "base_uri": "https://localhost:8080/"
        },
        "id": "MuzvtWcbjNHJ",
        "outputId": "9cd87be6-b420-4676-aec2-4dc517ec6e22"
      },
      "execution_count": null,
      "outputs": [
        {
          "output_type": "stream",
          "name": "stdout",
          "text": [
            "              precision    recall  f1-score   support\n",
            "\n",
            "           0       0.66      0.96      0.78       988\n",
            "           1       0.92      0.51      0.66      1012\n",
            "\n",
            "    accuracy                           0.73      2000\n",
            "   macro avg       0.79      0.73      0.72      2000\n",
            "weighted avg       0.79      0.73      0.72      2000\n",
            "\n"
          ]
        }
      ]
    },
    {
      "cell_type": "code",
      "source": [
        "class BestTorchModel_BN_Dropout_again(nn.Module):\n",
        "    def __init__(self, num_labels, input_size, hidden_size, n_linear_layers=3, activation=nn.ReLU):\n",
        "        super(BestTorchModel_BN_Dropout_again, self).__init__()\n",
        "\n",
        "        layers = [nn.Linear(input_size, hidden_size), nn.BatchNorm1d(hidden_size), activation()]\n",
        "\n",
        "        for i in range(n_linear_layers - 1):\n",
        "            layers.append(nn.Linear(hidden_size, hidden_size))\n",
        "            layers.append(nn.BatchNorm1d(hidden_size))\n",
        "            if i == 0:\n",
        "              layers.append(nn.Dropout(p=0.2))\n",
        "            layers.append(activation())\n",
        "\n",
        "        layers.append(nn.Linear(hidden_size, num_labels))\n",
        "        self.layers = nn.Sequential(*layers)\n",
        "\n",
        "    def forward(self, x):\n",
        "        y_pred = torch.sigmoid(self.layers(x))\n",
        "        return y_pred"
      ],
      "metadata": {
        "id": "Dufubsv4jNKm"
      },
      "execution_count": 22,
      "outputs": []
    },
    {
      "cell_type": "code",
      "source": [
        "model = BestTorchModel_BN_Dropout_again(1, 15, 35, 3)\n",
        "device = torch.device(\"cuda\" if torch.cuda.is_available() else \"cpu\")\n",
        "model.to(device)\n",
        "\n",
        "loss_function = nn.BCELoss()\n",
        "optimizer = optim.AdamW(model.parameters(), lr=0.0005)\n",
        "\n",
        "model"
      ],
      "metadata": {
        "colab": {
          "base_uri": "https://localhost:8080/"
        },
        "id": "quPSacQ2sOU_",
        "outputId": "9f57e626-b247-4deb-9002-b7166ed708e6"
      },
      "execution_count": 29,
      "outputs": [
        {
          "output_type": "execute_result",
          "data": {
            "text/plain": [
              "BestTorchModel_BN_Dropout_again(\n",
              "  (layers): Sequential(\n",
              "    (0): Linear(in_features=15, out_features=35, bias=True)\n",
              "    (1): BatchNorm1d(35, eps=1e-05, momentum=0.1, affine=True, track_running_stats=True)\n",
              "    (2): ReLU()\n",
              "    (3): Linear(in_features=35, out_features=35, bias=True)\n",
              "    (4): BatchNorm1d(35, eps=1e-05, momentum=0.1, affine=True, track_running_stats=True)\n",
              "    (5): Dropout(p=0.2, inplace=False)\n",
              "    (6): ReLU()\n",
              "    (7): Linear(in_features=35, out_features=35, bias=True)\n",
              "    (8): BatchNorm1d(35, eps=1e-05, momentum=0.1, affine=True, track_running_stats=True)\n",
              "    (9): ReLU()\n",
              "    (10): Linear(in_features=35, out_features=1, bias=True)\n",
              "  )\n",
              ")"
            ]
          },
          "metadata": {},
          "execution_count": 29
        }
      ]
    },
    {
      "cell_type": "code",
      "source": [
        "num_epochs = 75\n",
        "train_losses = []\n",
        "val_losses = []\n",
        "\n",
        "for epoch in range(num_epochs):\n",
        "    # Train loop\n",
        "    model.train()\n",
        "    train_loss = 0.0\n",
        "    for features, labels in train_loader:\n",
        "        #features, labels = features.to(device), labels.to(device)\n",
        "\n",
        "        labels = labels.unsqueeze(1).float()\n",
        "\n",
        "        optimizer.zero_grad()\n",
        "        outputs = model(features)\n",
        "        loss = loss_function(outputs, labels)\n",
        "        loss.backward()\n",
        "        optimizer.step()\n",
        "\n",
        "        train_loss += loss.item() * features.size(0)\n",
        "\n",
        "    train_loss /= len(train_loader.dataset)\n",
        "    train_losses.append(train_loss)\n",
        "\n",
        "    model.eval()\n",
        "    val_loss = 0.0\n",
        "    with torch.no_grad():\n",
        "        for features, labels in val_loader:\n",
        "            features, labels = features.to(device), labels.to(device)\n",
        "            outputs = model(features)\n",
        "            labels = labels.unsqueeze(1).float()\n",
        "            loss = loss_function(outputs, labels)\n",
        "            val_loss += loss.item() * features.size(0)\n",
        "\n",
        "    val_loss /= len(val_loader.dataset)\n",
        "    val_losses.append(val_loss)\n",
        "\n",
        "    print(f\"Epoch {epoch+1}/{num_epochs}, Train Loss: {train_loss:.4f}, Val Loss: {val_loss:.4f}\")\n",
        "\n",
        "# Визуализация динамики функции потерь\n",
        "plt.figure(figsize=(10, 6))\n",
        "plt.plot(range(1, num_epochs + 1), train_losses, label=\"Train Loss\")\n",
        "plt.plot(range(1, num_epochs + 1), val_losses, label=\"Val Loss\")\n",
        "plt.xlabel(\"Epoch\")\n",
        "plt.ylabel(\"Loss\")\n",
        "plt.title(\"Loss Dynamics\")\n",
        "plt.legend()\n",
        "plt.grid()\n",
        "plt.show()"
      ],
      "metadata": {
        "colab": {
          "base_uri": "https://localhost:8080/",
          "height": 1000
        },
        "id": "INnVwuB2smgq",
        "outputId": "d00e5fa8-7e23-468b-9d63-9072a11cf027"
      },
      "execution_count": 30,
      "outputs": [
        {
          "output_type": "stream",
          "name": "stdout",
          "text": [
            "Epoch 1/75, Train Loss: 0.6383, Val Loss: 0.6517\n",
            "Epoch 2/75, Train Loss: 0.5751, Val Loss: 0.6332\n",
            "Epoch 3/75, Train Loss: 0.5433, Val Loss: 0.6394\n",
            "Epoch 4/75, Train Loss: 0.5278, Val Loss: 0.6302\n",
            "Epoch 5/75, Train Loss: 0.5110, Val Loss: 0.5690\n",
            "Epoch 6/75, Train Loss: 0.5158, Val Loss: 0.6310\n",
            "Epoch 7/75, Train Loss: 0.5018, Val Loss: 0.6272\n",
            "Epoch 8/75, Train Loss: 0.5015, Val Loss: 0.5846\n",
            "Epoch 9/75, Train Loss: 0.4996, Val Loss: 0.5438\n",
            "Epoch 10/75, Train Loss: 0.4862, Val Loss: 0.5743\n",
            "Epoch 11/75, Train Loss: 0.4852, Val Loss: 0.5377\n",
            "Epoch 12/75, Train Loss: 0.4821, Val Loss: 0.5319\n",
            "Epoch 13/75, Train Loss: 0.4829, Val Loss: 0.5328\n",
            "Epoch 14/75, Train Loss: 0.4708, Val Loss: 0.5659\n",
            "Epoch 15/75, Train Loss: 0.4737, Val Loss: 0.6080\n",
            "Epoch 16/75, Train Loss: 0.4659, Val Loss: 0.6017\n",
            "Epoch 17/75, Train Loss: 0.4684, Val Loss: 0.5673\n",
            "Epoch 18/75, Train Loss: 0.4733, Val Loss: 0.6178\n",
            "Epoch 19/75, Train Loss: 0.4614, Val Loss: 0.5926\n",
            "Epoch 20/75, Train Loss: 0.4628, Val Loss: 0.5889\n",
            "Epoch 21/75, Train Loss: 0.4661, Val Loss: 0.5846\n",
            "Epoch 22/75, Train Loss: 0.4618, Val Loss: 0.5327\n",
            "Epoch 23/75, Train Loss: 0.4527, Val Loss: 0.5478\n",
            "Epoch 24/75, Train Loss: 0.4562, Val Loss: 0.6147\n",
            "Epoch 25/75, Train Loss: 0.4604, Val Loss: 0.6747\n",
            "Epoch 26/75, Train Loss: 0.4574, Val Loss: 0.5698\n",
            "Epoch 27/75, Train Loss: 0.4525, Val Loss: 0.6877\n",
            "Epoch 28/75, Train Loss: 0.4494, Val Loss: 0.5534\n",
            "Epoch 29/75, Train Loss: 0.4585, Val Loss: 0.6956\n",
            "Epoch 30/75, Train Loss: 0.4491, Val Loss: 0.7539\n",
            "Epoch 31/75, Train Loss: 0.4513, Val Loss: 0.5664\n",
            "Epoch 32/75, Train Loss: 0.4450, Val Loss: 0.5593\n",
            "Epoch 33/75, Train Loss: 0.4584, Val Loss: 0.6089\n",
            "Epoch 34/75, Train Loss: 0.4484, Val Loss: 0.6433\n",
            "Epoch 35/75, Train Loss: 0.4408, Val Loss: 0.6026\n",
            "Epoch 36/75, Train Loss: 0.4366, Val Loss: 0.6174\n",
            "Epoch 37/75, Train Loss: 0.4491, Val Loss: 0.7331\n",
            "Epoch 38/75, Train Loss: 0.4411, Val Loss: 0.5284\n",
            "Epoch 39/75, Train Loss: 0.4438, Val Loss: 0.4934\n",
            "Epoch 40/75, Train Loss: 0.4482, Val Loss: 0.5424\n",
            "Epoch 41/75, Train Loss: 0.4439, Val Loss: 0.5039\n",
            "Epoch 42/75, Train Loss: 0.4351, Val Loss: 0.4874\n",
            "Epoch 43/75, Train Loss: 0.4377, Val Loss: 0.6048\n",
            "Epoch 44/75, Train Loss: 0.4349, Val Loss: 0.5726\n",
            "Epoch 45/75, Train Loss: 0.4315, Val Loss: 0.5592\n",
            "Epoch 46/75, Train Loss: 0.4354, Val Loss: 0.5120\n",
            "Epoch 47/75, Train Loss: 0.4391, Val Loss: 0.5095\n",
            "Epoch 48/75, Train Loss: 0.4307, Val Loss: 0.5249\n",
            "Epoch 49/75, Train Loss: 0.4336, Val Loss: 0.4870\n",
            "Epoch 50/75, Train Loss: 0.4270, Val Loss: 0.4940\n",
            "Epoch 51/75, Train Loss: 0.4297, Val Loss: 0.5094\n",
            "Epoch 52/75, Train Loss: 0.4336, Val Loss: 0.5868\n",
            "Epoch 53/75, Train Loss: 0.4276, Val Loss: 0.4898\n",
            "Epoch 54/75, Train Loss: 0.4275, Val Loss: 0.5286\n",
            "Epoch 55/75, Train Loss: 0.4359, Val Loss: 0.4825\n",
            "Epoch 56/75, Train Loss: 0.4266, Val Loss: 0.5293\n",
            "Epoch 57/75, Train Loss: 0.4265, Val Loss: 0.5996\n",
            "Epoch 58/75, Train Loss: 0.4257, Val Loss: 0.5181\n",
            "Epoch 59/75, Train Loss: 0.4329, Val Loss: 0.5051\n",
            "Epoch 60/75, Train Loss: 0.4244, Val Loss: 0.5668\n",
            "Epoch 61/75, Train Loss: 0.4253, Val Loss: 0.5164\n",
            "Epoch 62/75, Train Loss: 0.4259, Val Loss: 0.6755\n",
            "Epoch 63/75, Train Loss: 0.4262, Val Loss: 0.5112\n",
            "Epoch 64/75, Train Loss: 0.4253, Val Loss: 0.5299\n",
            "Epoch 65/75, Train Loss: 0.4285, Val Loss: 0.4924\n",
            "Epoch 66/75, Train Loss: 0.4229, Val Loss: 0.5395\n",
            "Epoch 67/75, Train Loss: 0.4230, Val Loss: 0.4717\n",
            "Epoch 68/75, Train Loss: 0.4250, Val Loss: 0.6015\n",
            "Epoch 69/75, Train Loss: 0.4301, Val Loss: 0.5601\n",
            "Epoch 70/75, Train Loss: 0.4202, Val Loss: 0.5056\n",
            "Epoch 71/75, Train Loss: 0.4196, Val Loss: 0.5292\n",
            "Epoch 72/75, Train Loss: 0.4288, Val Loss: 0.4662\n",
            "Epoch 73/75, Train Loss: 0.4206, Val Loss: 0.6598\n",
            "Epoch 74/75, Train Loss: 0.4257, Val Loss: 0.5696\n",
            "Epoch 75/75, Train Loss: 0.4232, Val Loss: 0.4886\n"
          ]
        },
        {
          "output_type": "display_data",
          "data": {
            "text/plain": [
              "<Figure size 1000x600 with 1 Axes>"
            ],
            "image/png": "[encoded data removed]"
          },
          "metadata": {}
        }
      ]
    },
    {
      "cell_type": "code",
      "source": [
        "model.eval()\n",
        "predictions = []\n",
        "true_labels = []\n",
        "\n",
        "with torch.no_grad():\n",
        "    for features, labels in test_loader:\n",
        "        features = features.to(device)\n",
        "        outputs = model(features)\n",
        "        predictions.extend(outputs.cpu().numpy())\n",
        "        true_labels.extend(labels.numpy())\n",
        "\n",
        "# Преобразование выходов в 0 или 1 для бинарной классификации\n",
        "predictions = [1 if pred > 0.5 else 0 for pred in predictions]\n",
        "print(classification_report(true_labels, predictions))"
      ],
      "metadata": {
        "id": "CpOZLUGs1PTo",
        "outputId": "73d2758f-013f-40a9-bb51-b00092d24aa7",
        "colab": {
          "base_uri": "https://localhost:8080/"
        }
      },
      "execution_count": 31,
      "outputs": [
        {
          "output_type": "stream",
          "name": "stdout",
          "text": [
            "              precision    recall  f1-score   support\n",
            "\n",
            "           0       0.82      0.82      0.82       988\n",
            "           1       0.82      0.83      0.83      1012\n",
            "\n",
            "    accuracy                           0.82      2000\n",
            "   macro avg       0.82      0.82      0.82      2000\n",
            "weighted avg       0.82      0.82      0.82      2000\n",
            "\n"
          ]
        }
      ]
    },
    {
      "cell_type": "code",
      "source": [
        "model.eval()\n",
        "predictions = []\n",
        "true_labels = []\n",
        "\n",
        "with torch.no_grad():\n",
        "    for features, labels in test_loader:\n",
        "        features = features.to(device)\n",
        "        outputs = model(features)\n",
        "        predictions.extend(outputs.cpu().numpy())\n",
        "        true_labels.extend(labels.numpy())\n",
        "\n",
        "# Преобразование выходов в 0 или 1 для бинарной классификации\n",
        "predictions = [1 if pred > 0.5 else 0 for pred in predictions]\n",
        "print(classification_report(true_labels, predictions))"
      ],
      "metadata": {
        "colab": {
          "base_uri": "https://localhost:8080/"
        },
        "id": "ynvN0Nmz28JF",
        "outputId": "7fddd370-611c-469c-ce2d-4838a2716d51"
      },
      "execution_count": null,
      "outputs": [
        {
          "output_type": "stream",
          "name": "stdout",
          "text": [
            "              precision    recall  f1-score   support\n",
            "\n",
            "           0       0.77      0.90      0.83       988\n",
            "           1       0.89      0.74      0.81      1012\n",
            "\n",
            "    accuracy                           0.82      2000\n",
            "   macro avg       0.83      0.82      0.82      2000\n",
            "weighted avg       0.83      0.82      0.82      2000\n",
            "\n"
          ]
        }
      ]
    },
    {
      "cell_type": "markdown",
      "source": [
        "l=0.0005, p =0.2"
      ],
      "metadata": {
        "id": "eeIcqiA8zNra"
      }
    },
    {
      "cell_type": "code",
      "source": [
        "model.eval()\n",
        "predictions = []\n",
        "true_labels = []\n",
        "\n",
        "with torch.no_grad():\n",
        "    for features, labels in test_loader:\n",
        "        features = features.to(device)\n",
        "        outputs = model(features)\n",
        "        predictions.extend(outputs.cpu().numpy())\n",
        "        true_labels.extend(labels.numpy())\n",
        "\n",
        "# Преобразование выходов в 0 или 1 для бинарной классификации\n",
        "predictions = [1 if pred > 0.5 else 0 for pred in predictions]\n",
        "print(classification_report(true_labels, predictions))"
      ],
      "metadata": {
        "colab": {
          "base_uri": "https://localhost:8080/"
        },
        "id": "Tm3qb3EgxkQn",
        "outputId": "31f0f3e1-fa71-482f-912b-c6bea74e295b"
      },
      "execution_count": null,
      "outputs": [
        {
          "output_type": "stream",
          "name": "stdout",
          "text": [
            "              precision    recall  f1-score   support\n",
            "\n",
            "           0       0.79      0.85      0.82       988\n",
            "           1       0.84      0.78      0.81      1012\n",
            "\n",
            "    accuracy                           0.82      2000\n",
            "   macro avg       0.82      0.82      0.82      2000\n",
            "weighted avg       0.82      0.82      0.82      2000\n",
            "\n"
          ]
        }
      ]
    },
    {
      "cell_type": "markdown",
      "source": [
        "парметры l=0.0005, p=0.4"
      ],
      "metadata": {
        "id": "eRL2sPDaw7t2"
      }
    },
    {
      "cell_type": "code",
      "source": [
        "model.eval()\n",
        "predictions = []\n",
        "true_labels = []\n",
        "\n",
        "with torch.no_grad():\n",
        "    for features, labels in test_loader:\n",
        "        features = features.to(device)\n",
        "        outputs = model(features)\n",
        "        predictions.extend(outputs.cpu().numpy())\n",
        "        true_labels.extend(labels.numpy())\n",
        "\n",
        "# Преобразование выходов в 0 или 1 для бинарной классификации\n",
        "predictions = [1 if pred > 0.5 else 0 for pred in predictions]\n",
        "print(classification_report(true_labels, predictions))"
      ],
      "metadata": {
        "colab": {
          "base_uri": "https://localhost:8080/"
        },
        "id": "g80jlnF3uX1f",
        "outputId": "e75a1ce3-4dd2-4549-b2db-703a0a4fe787"
      },
      "execution_count": null,
      "outputs": [
        {
          "output_type": "stream",
          "name": "stdout",
          "text": [
            "              precision    recall  f1-score   support\n",
            "\n",
            "           0       0.78      0.83      0.80       988\n",
            "           1       0.82      0.77      0.80      1012\n",
            "\n",
            "    accuracy                           0.80      2000\n",
            "   macro avg       0.80      0.80      0.80      2000\n",
            "weighted avg       0.80      0.80      0.80      2000\n",
            "\n"
          ]
        }
      ]
    },
    {
      "cell_type": "markdown",
      "source": [
        "p и l определялось экспериментным путем. Усложнением архитектуры удалось добиться метрики f1-score максимум 0.83"
      ],
      "metadata": {
        "id": "WcPj_EP62Ona"
      }
    }
  ]
}